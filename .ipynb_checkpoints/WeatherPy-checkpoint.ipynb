{
 "cells": [
  {
   "cell_type": "code",
   "execution_count": 73,
   "metadata": {},
   "outputs": [],
   "source": [
    "import apikeys\n",
    "from citipy import citipy \n",
    "import json\n",
    "import matplotlib.pyplot as plt\n",
    "import pandas as pd\n",
    "from random import Random\n",
    "import requests as req\n",
    "import seaborn as sns\n",
    "from unicodedata import normalize"
   ]
  },
  {
   "cell_type": "code",
   "execution_count": 59,
   "metadata": {},
   "outputs": [],
   "source": [
    "wkey = apikeys.OPEN_WEATHER_MAP\n",
    "url = \"http://api.openweathermap.org/data/2.5/weather\""
   ]
  },
  {
   "cell_type": "code",
   "execution_count": 60,
   "metadata": {},
   "outputs": [],
   "source": [
    "params = {'appid': wkey,\n",
    "          'id': '',\n",
    "          'mode': json\n",
    "          }\n",
    "\n",
    "city_weather = req.get(url, params=params).json()"
   ]
  },
  {
   "cell_type": "code",
   "execution_count": 61,
   "metadata": {},
   "outputs": [
    {
     "name": "stdout",
     "output_type": "stream",
     "text": [
      "[[-57, 62], [56, -37], [-13, -54], [-83, -59], [1, 94], [-15, -101], [-60, 112], [-9, -159], [-76, -154], [-38, 179]]\n"
     ]
    }
   ],
   "source": [
    "coordinates = []\n",
    "r = Random()\n",
    "r.seed()\n",
    "for x in range(10):\n",
    "    lat = r.randint(-90, 90)\n",
    "    lon = r.randint(-180, 180)\n",
    "    coordinates.append([lat, lon])\n",
    "print(coordinates)    "
   ]
  },
  {
   "cell_type": "code",
   "execution_count": 70,
   "metadata": {},
   "outputs": [
    {
     "name": "stdout",
     "output_type": "stream",
     "text": [
      "['mgtaolanaro', 'glnanortalik', 'brdiamantino', 'arushuaia', 'idmeulaboh', 'ecpuerto ayora', 'aualbany', 'pffaanui', 'pfmataura', 'nzruatoria']\n"
     ]
    }
   ],
   "source": [
    "cities = []\n",
    "for lat, lon in coordinates:\n",
    "    cities.append(citipy.nearest_city(lat, lon))\n",
    "\n",
    "city_ids = []\n",
    "for city in cities:\n",
    "    city_ids.append(city.country_code + city.city_name)\n",
    "print(city_ids)    "
   ]
  },
  {
   "cell_type": "code",
   "execution_count": 76,
   "metadata": {},
   "outputs": [
    {
     "name": "stdout",
     "output_type": "stream",
     "text": [
      "[{'id': 1214488, 'name': 'Meulaboh', 'country': 'ID', 'coord': {'lon': 96.128502, 'lat': 4.1363}}, {'id': 3421765, 'name': 'Nanortalik', 'country': 'GL', 'coord': {'lon': -45.237148, 'lat': 60.143169}}, {'id': 3652764, 'name': 'Puerto Ayora', 'country': 'EC', 'coord': {'lon': -90.351761, 'lat': -0.73931}}, {'id': 7839657, 'name': 'Albany', 'country': 'AU', 'coord': {'lon': 118.123451, 'lat': -34.7099}}, {'id': 2077963, 'name': 'Albany', 'country': 'AU', 'coord': {'lon': 117.89167, 'lat': -35.016941}}, {'id': 3833367, 'name': 'Ushuaia', 'country': 'AR', 'coord': {'lon': -68.300003, 'lat': -54.799999}}, {'id': 3464724, 'name': 'Diamantino', 'country': 'BR', 'coord': {'lon': -56.44611, 'lat': -14.40861}}, {'id': 4034551, 'name': 'Faanui', 'country': 'PF', 'coord': {'lon': -151.75, 'lat': -16.48333}}]\n"
     ]
    }
   ],
   "source": [
    "#use city name and country code to get cityID to use on OWM\n",
    "with open('city.list.json') as json_file:\n",
    "    text = json_file.read()\n",
    "    json_data = json.loads(text)\n",
    "    \n",
    "cities = []\n",
    "for c in json_data:\n",
    "    ccc = str(normalize('NFKD', c[\"country\"] + c[\"name\"])\\\n",
    "              .encode('ascii','ignore'), 'ascii').lower()\n",
    "    if ccc in city_ids:\n",
    "        cities.append(c)  \n",
    "print(cities)    \n",
    "#get city IDs based on ^ data    "
   ]
  },
  {
   "cell_type": "code",
   "execution_count": 12,
   "metadata": {
    "collapsed": true
   },
   "outputs": [],
   "source": [
    "#get temp, humidity, cloudiness, and wind speed for each city"
   ]
  },
  {
   "cell_type": "code",
   "execution_count": 13,
   "metadata": {
    "collapsed": true
   },
   "outputs": [],
   "source": [
    "#scatterplots of \n",
    "# Temperature (F) vs. Latitude\n",
    "# Humidity (%) vs. Latitude\n",
    "# Cloudiness (%) vs. Latitude\n",
    "# Wind Speed (mph) vs. Latitude\n",
    "\n",
    "#Save both a CSV of all data retrieved and png images for each scatter plot."
   ]
  },
  {
   "cell_type": "code",
   "execution_count": null,
   "metadata": {
    "collapsed": true
   },
   "outputs": [],
   "source": []
  }
 ],
 "metadata": {
  "kernelspec": {
   "display_name": "Python [conda env:PythonData]",
   "language": "python",
   "name": "conda-env-PythonData-py"
  },
  "language_info": {
   "codemirror_mode": {
    "name": "ipython",
    "version": 3
   },
   "file_extension": ".py",
   "mimetype": "text/x-python",
   "name": "python",
   "nbconvert_exporter": "python",
   "pygments_lexer": "ipython3",
   "version": "3.6.1"
  }
 },
 "nbformat": 4,
 "nbformat_minor": 2
}
