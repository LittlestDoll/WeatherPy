{
 "cells": [
  {
   "cell_type": "code",
   "execution_count": 2,
   "metadata": {},
   "outputs": [],
   "source": [
    "import apikeys\n",
    "from citipy import citipy \n",
    "import json\n",
    "import matplotlib.pyplot as plt\n",
    "import requests as req\n",
    "import seaborn as sns"
   ]
  },
  {
   "cell_type": "code",
   "execution_count": 15,
   "metadata": {
    "collapsed": true
   },
   "outputs": [],
   "source": [
    "wkey = apikeys.OPEN_WEATHER_MAP\n",
    "url = 'http://tile.openweathermap.org/map/{layer}/{z}/{x}/{y}.png?appid={api_key}'    "
   ]
  },
  {
   "cell_type": "code",
   "execution_count": 8,
   "metadata": {
    "collapsed": true
   },
   "outputs": [],
   "source": [
    "# Parameters Descreption\n",
    "# {layer} layer name \n",
    "# {z} number of zoom level \n",
    "# {x} number of x tile coordinate \n",
    "# {y} number of y tile coordinate \n",
    "# {api_key} Your API key"
   ]
  },
  {
   "cell_type": "code",
   "execution_count": 13,
   "metadata": {
    "collapsed": true
   },
   "outputs": [],
   "source": [
    "# city = citipy.nearest_city(22.99, 120.21)\n",
    "# city.city_name\n",
    "# city.country_code\n",
    "coordinates = [()]#needs to pull random sample\n",
    "\n",
    "cities = []\n",
    "for lat, lon in coordinates:\n",
    "    cities.append(citipy.nearest_city(lat, lon))\n",
    "    \n",
    "for city in cities:\n",
    "    country_code = city.country_code\n",
    "    name = city.city_name"
   ]
  },
  {
   "cell_type": "code",
   "execution_count": null,
   "metadata": {
    "collapsed": true
   },
   "outputs": [],
   "source": []
  }
 ],
 "metadata": {
  "kernelspec": {
   "display_name": "Python [conda env:PythonData]",
   "language": "python",
   "name": "conda-env-PythonData-py"
  },
  "language_info": {
   "codemirror_mode": {
    "name": "ipython",
    "version": 3
   },
   "file_extension": ".py",
   "mimetype": "text/x-python",
   "name": "python",
   "nbconvert_exporter": "python",
   "pygments_lexer": "ipython3",
   "version": "3.6.1"
  }
 },
 "nbformat": 4,
 "nbformat_minor": 2
}
